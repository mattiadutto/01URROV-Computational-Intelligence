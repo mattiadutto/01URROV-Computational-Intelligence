{
 "cells": [
  {
   "cell_type": "code",
   "execution_count": 1,
   "metadata": {},
   "outputs": [],
   "source": [
    "import numpy as np"
   ]
  },
  {
   "cell_type": "code",
   "execution_count": 12,
   "metadata": {},
   "outputs": [
    {
     "name": "stdout",
     "output_type": "stream",
     "text": [
      "27\n",
      "[[1. 1.]\n",
      " [3. 3.]\n",
      " [2. 0.]\n",
      " [5. 2.]]\n"
     ]
    }
   ],
   "source": [
    "userTable = [[[1, 0, -1, -1], [3, 4, -1, -1]],\n",
    "             [[2, 3, -1, -1]]]\n",
    "\n",
    "myTable = [[1, 1, -1, -1], [2, -1, -1, -1], [-1, 3, -1, -1], [-1, -1, -1, -1]]\n",
    "\n",
    "\n",
    "from random import randint\n",
    "\n",
    "def generateCards():\n",
    "    \"\"\"\n",
    "    It generate all 50 cards of the game and it return it as a list\n",
    "    \"\"\"\n",
    "    cards = list()\n",
    "    for colour in range(5):\n",
    "        cards.append([1, colour])\n",
    "        cards.append([1, colour])\n",
    "        cards.append([1, colour])\n",
    "        cards.append([2, colour])\n",
    "        cards.append([2, colour])\n",
    "        cards.append([3, colour])\n",
    "        cards.append([3, colour])\n",
    "        cards.append([4, colour])\n",
    "        cards.append([4, colour])\n",
    "        cards.append([5, colour])\n",
    "    return cards\n",
    "\n",
    "def possibleCards(userTable, myTable):\n",
    "    \"\"\"\n",
    "    from all possible cards (allCards) it remove the already present in other player \n",
    "    @userTable, I also remove the all hinted card from the @myTable\n",
    "\n",
    "    return: all valid cards as an array\n",
    "\n",
    "    \"\"\"\n",
    "    allCards = generateCards()\n",
    "    userCards = list([c[0:2] for u in userTable for c in u])\n",
    "\n",
    "    for c in userCards:\n",
    "        allCards.remove(c)\n",
    "\n",
    "    for c in list([c[0:2] for c in myTable]):\n",
    "        if -1 not in c:\n",
    "            allCards.remove(c)\n",
    "\n",
    "    #allCards = np.array(allCards)\n",
    "    usedFlag = -np.ones((len(allCards), 1))\n",
    "    allCards = np.hstack((allCards, usedFlag))\n",
    "    return allCards\n",
    "\n",
    "def addHalfCard(cards, completeCards, card, flagColorValue):\n",
    "    \"\"\"\n",
    "    cards: list of all cards that are not used\n",
    "    completeCards: valid cards\n",
    "    card: card that I have to complete\n",
    "    flagColorValue: 0 -> I have to find a valid value\n",
    "                    1 -> I have to find a valid color\n",
    "    \"\"\"\n",
    "    while card[flagColorValue] == -1:\n",
    "        card[flagColorValue] = randint(0, 4)\n",
    "        if card in np.array([c[0:2] for c in cards]):\n",
    "            # We have to mark the card used\n",
    "            for c in cards:\n",
    "                if np.array_equal(c[0:2], card):\n",
    "                    if c[2] == -1:\n",
    "                        c[2] = 1\n",
    "                        completeCards.append(card)\n",
    "                        break\n",
    "                    else:\n",
    "                        card[flagColorValue] = -1\n",
    "                else:\n",
    "                    continue\n",
    "\n",
    "def addCard(cards, completeCards):\n",
    "    \"\"\"\n",
    "    cards: all possible cards\n",
    "    completeCards: valid cards for the mtcs\n",
    "    \"\"\"\n",
    "    # I select a not used card\n",
    "    cardIndex = randint(0, len(cards) - 1)\n",
    "    print(cardIndex)\n",
    "    while cards[cardIndex][2] != -1:\n",
    "        cardIndex = randint(0, len(cards) - 1)\n",
    "    cards[cardIndex][2] = 1\n",
    "    completeCards.append(cards[cardIndex][0:2]) # I append a valid card\n",
    "\n",
    "def completeHand(userTable, myTable):\n",
    "    \"\"\"\n",
    "    userTable: table of cards of all users except local player\n",
    "    myTable: table of cards of local player\n",
    "\n",
    "    return: Completed hand as an array\n",
    "    \"\"\"\n",
    "    cards = possibleCards(userTable)\n",
    "    completeCards = list()\n",
    "\n",
    "    # Before I manage all cards for one I only know the color, after the one that I know the value and finally I manage cards that I don't know both value and color\n",
    "    for c in myTable:\n",
    "        tmp = c[0:2]\n",
    "        if -1 not in tmp:\n",
    "            completeCards.append(tmp)\n",
    "        elif tmp[0] == -1 and tmp[1] != -1:\n",
    "            # we have to select a value\n",
    "            addHalfCard(cards, completeCards, tmp, 0)\n",
    "\n",
    "    for c in myTable:  \n",
    "        tmp = c[0:2]     \n",
    "        if tmp[1] == -1 and tmp[0] != -1:\n",
    "            # we have to select a color\n",
    "            addHalfCard(cards, completeCards, tmp, 1)\n",
    "\n",
    "    for c in myTable:\n",
    "        if np.array_equal(c[0:2], [-1, -1]):\n",
    "            # we have to select a card\n",
    "            addCard(cards, completeCards)\n",
    "   \n",
    "    # print(cards)\n",
    "    # print(myTable)\n",
    "    # print(np.array(completeCards))\n",
    "    return np.array(completeCards)\n",
    "\n",
    "completeHand()    \n"
   ]
  },
  {
   "cell_type": "code",
   "execution_count": null,
   "metadata": {},
   "outputs": [],
   "source": [
    "a = [1, -1]\n",
    "\n",
    "if -1 not in a:\n",
    "    print(\"pippo\")\n",
    "else:\n",
    "    print(\"lippa\")"
   ]
  },
  {
   "cell_type": "code",
   "execution_count": null,
   "metadata": {},
   "outputs": [],
   "source": [
    "a = np.array([[1],[2],[3]])\n",
    "b = np.array([[4,3],[5, 3],[6, 3]])\n",
    "np.hstack((a,b))"
   ]
  },
  {
   "cell_type": "code",
   "execution_count": null,
   "metadata": {},
   "outputs": [],
   "source": [
    "from random import randint\n",
    "tmp = [-1, 2]\n",
    "tmp[0] = randint(0, 5)\n",
    "print(tmp)\n",
    "\n",
    "if np.array(tmp) in np.array([c[0:2] for c in cards]):\n",
    "    print(\"pippo\")\n",
    "else:\n",
    "    print(\"card already present\")"
   ]
  },
  {
   "cell_type": "code",
   "execution_count": null,
   "metadata": {},
   "outputs": [],
   "source": [
    "userTable = [[[1, 0, -1, -1], [3, 4, -1, -1]],\n",
    "             [[2, 3, -1, -1]]]\n",
    "allCards = possibleCards()\n",
    "allCards[34][2]\n"
   ]
  },
  {
   "cell_type": "code",
   "execution_count": 1,
   "metadata": {},
   "outputs": [
    {
     "name": "stdout",
     "output_type": "stream",
     "text": [
      "My state = pippo\n"
     ]
    }
   ],
   "source": [
    "class P():\n",
    "    def __init__(self, state):\n",
    "        self.state = state\n",
    "    \n",
    "    def printState(self):\n",
    "        print(f\"My state = {self.state}\")\n",
    "\n",
    "p = P(\"pippo\")\n",
    "p.printState()"
   ]
  },
  {
   "cell_type": "code",
   "execution_count": 7,
   "metadata": {},
   "outputs": [
    {
     "name": "stdout",
     "output_type": "stream",
     "text": [
      "Ciao split come stai\n"
     ]
    }
   ],
   "source": [
    "str = \"Ciao come stai\"\n",
    "ply, plyInfo = str.split(\" \", maxsplit=1)\n",
    "print(ply + \" split \" +  plyInfo)"
   ]
  },
  {
   "cell_type": "code",
   "execution_count": 11,
   "metadata": {},
   "outputs": [
    {
     "name": "stdout",
     "output_type": "stream",
     "text": [
      "Ciccio\n"
     ]
    }
   ],
   "source": [
    "if ply == \"Cilao\":\n",
    "    print(\"Pippo\")\n",
    "else:\n",
    "    print(\"Ciccio\")"
   ]
  },
  {
   "cell_type": "code",
   "execution_count": 12,
   "metadata": {},
   "outputs": [
    {
     "data": {
      "text/plain": [
       "3"
      ]
     },
     "execution_count": 12,
     "metadata": {},
     "output_type": "execute_result"
    }
   ],
   "source": [
    "names = list()\n",
    "names.append(\"Pippo\")\n",
    "names.append(\"Lippo\")\n",
    "names.append(\"Giorgio\")\n",
    "len(names)"
   ]
  },
  {
   "cell_type": "code",
   "execution_count": 13,
   "metadata": {},
   "outputs": [],
   "source": [
    "import numpy\n",
    "a = numpy.zeros(3)\n",
    "ab = a.copy()"
   ]
  },
  {
   "cell_type": "code",
   "execution_count": 14,
   "metadata": {},
   "outputs": [
    {
     "data": {
      "text/plain": [
       "array([0., 0., 0.])"
      ]
     },
     "execution_count": 14,
     "metadata": {},
     "output_type": "execute_result"
    }
   ],
   "source": [
    "ab"
   ]
  },
  {
   "cell_type": "code",
   "execution_count": 22,
   "metadata": {},
   "outputs": [
    {
     "name": "stdout",
     "output_type": "stream",
     "text": [
      "[0 1 2 3 4]\n",
      "[ 0  1  2 -1  4]\n",
      "[0 1 2]\n",
      "[4]\n",
      "[ 0  1  2  4 -1]\n"
     ]
    }
   ],
   "source": [
    "import numpy as np\n",
    "\n",
    "a = np.array([i for i in range(5)])\n",
    "print(a)\n",
    "a[3] = -1\n",
    "print(a)\n",
    "print(a[:3])\n",
    "print(a[3+1:])\n",
    "b = np.concatenate((a[:3], a[3+1:], np.array([-1])))\n",
    "#b[len(b) - 1] = -1\n",
    "print(b)"
   ]
  },
  {
   "cell_type": "code",
   "execution_count": 47,
   "metadata": {},
   "outputs": [
    {
     "name": "stdout",
     "output_type": "stream",
     "text": [
      "2 + aa\n"
     ]
    },
    {
     "data": {
      "text/plain": [
       "('aa', '512')"
      ]
     },
     "execution_count": 47,
     "metadata": {},
     "output_type": "execute_result"
    }
   ],
   "source": [
    "from collections import defaultdict\n",
    "_results = defaultdict()\n",
    "_results[\"a\"] = 5\n",
    "_results[\"b\"] = 511\n",
    "_results[\"aa\"] = 512\n",
    "\n",
    "array = np.array(list(_results.items()))\n",
    "max = np.argmax(array[:, 1] )\n",
    "print(f\"{max} + {array[max][0]}\")\n",
    "\n",
    "array[max][0], array[max][1]\n"
   ]
  },
  {
   "cell_type": "code",
   "execution_count": 53,
   "metadata": {},
   "outputs": [
    {
     "data": {
      "text/plain": [
       "array([[0., 0.],\n",
       "       [0., 0.],\n",
       "       [0., 0.]])"
      ]
     },
     "execution_count": 53,
     "metadata": {},
     "output_type": "execute_result"
    }
   ],
   "source": [
    "resutls = np.reshape(np.zeros(2 * 3), (3,2))\n",
    "resutls"
   ]
  },
  {
   "cell_type": "code",
   "execution_count": 59,
   "metadata": {},
   "outputs": [
    {
     "ename": "TypeError",
     "evalue": "float() argument must be a string or a number, not 'dict'",
     "output_type": "error",
     "traceback": [
      "\u001b[0;31m---------------------------------------------------------------------------\u001b[0m",
      "\u001b[0;31mTypeError\u001b[0m                                 Traceback (most recent call last)",
      "\u001b[0;32m/var/folders/y9/nx1_75c93hlfxqhpb_rgvw3r0000gn/T/ipykernel_1428/1741302931.py\u001b[0m in \u001b[0;36m<module>\u001b[0;34m\u001b[0m\n\u001b[1;32m      1\u001b[0m \u001b[0mresults\u001b[0m \u001b[0;34m=\u001b[0m \u001b[0mnp\u001b[0m\u001b[0;34m.\u001b[0m\u001b[0mzeros\u001b[0m\u001b[0;34m(\u001b[0m\u001b[0;36m3\u001b[0m\u001b[0;34m)\u001b[0m\u001b[0;34m\u001b[0m\u001b[0;34m\u001b[0m\u001b[0m\n\u001b[1;32m      2\u001b[0m \u001b[0;32mfor\u001b[0m \u001b[0mi\u001b[0m \u001b[0;32min\u001b[0m \u001b[0mrange\u001b[0m\u001b[0;34m(\u001b[0m\u001b[0;36m3\u001b[0m\u001b[0;34m)\u001b[0m\u001b[0;34m:\u001b[0m\u001b[0;34m\u001b[0m\u001b[0;34m\u001b[0m\u001b[0m\n\u001b[0;32m----> 3\u001b[0;31m     \u001b[0mresults\u001b[0m\u001b[0;34m[\u001b[0m\u001b[0mi\u001b[0m\u001b[0;34m]\u001b[0m \u001b[0;34m=\u001b[0m \u001b[0;34m{\u001b[0m\u001b[0;34mf\"i\"\u001b[0m\u001b[0;34m:\u001b[0m \u001b[0mi\u001b[0m\u001b[0;34m+\u001b[0m\u001b[0;36m1\u001b[0m\u001b[0;34m}\u001b[0m\u001b[0;34m\u001b[0m\u001b[0;34m\u001b[0m\u001b[0m\n\u001b[0m\u001b[1;32m      4\u001b[0m \u001b[0mresutls\u001b[0m\u001b[0;34m\u001b[0m\u001b[0;34m\u001b[0m\u001b[0m\n",
      "\u001b[0;31mTypeError\u001b[0m: float() argument must be a string or a number, not 'dict'"
     ]
    }
   ],
   "source": [
    "results = np.zeros(3)\n",
    "for i in range(3):\n",
    "    results[i] = {f\"i\": i+1}\n",
    "resutls"
   ]
  },
  {
   "cell_type": "code",
   "execution_count": null,
   "metadata": {},
   "outputs": [],
   "source": []
  },
  {
   "cell_type": "code",
   "execution_count": 85,
   "metadata": {},
   "outputs": [
    {
     "name": "stdout",
     "output_type": "stream",
     "text": [
      "[[[ 0  1]\n",
      "  [ 2  3]]\n",
      "\n",
      " [[ 4  5]\n",
      "  [ 6  7]]\n",
      "\n",
      " [[ 8  9]\n",
      "  [10 11]]\n",
      "\n",
      " [[12 13]\n",
      "  [14 15]]]\n"
     ]
    }
   ],
   "source": [
    "import numpy as np\n",
    "a = np.array([i for i in range(12)])\n",
    "a = np.reshape(a, (3,2,2))\n",
    "b = np.array([i+12 for i in range(4)])\n",
    "b = np.reshape(np.array([i+12 for i in range(4)]), (1,2,2))\n",
    "ab = np.concatenate((a,b))\n",
    "print(ab)"
   ]
  },
  {
   "cell_type": "code",
   "execution_count": 90,
   "metadata": {},
   "outputs": [
    {
     "data": {
      "text/plain": [
       "array([[-1., -1.,  0.],\n",
       "       [-1., -1.,  1.],\n",
       "       [-1., -1.,  2.],\n",
       "       [-1., -1.,  3.],\n",
       "       [-1., -1.,  4.]])"
      ]
     },
     "execution_count": 90,
     "metadata": {},
     "output_type": "execute_result"
    }
   ],
   "source": [
    "import numpy as np\n",
    "\n",
    "a = np.array([i for i in range(5)])\n",
    "a = np.reshape(a, (5,1))\n",
    "a = np.c_[np.zeros(5)-1, np.zeros(5)-1, a]\n",
    "a"
   ]
  },
  {
   "cell_type": "code",
   "execution_count": 115,
   "metadata": {},
   "outputs": [
    {
     "name": "stdout",
     "output_type": "stream",
     "text": [
      "None\n"
     ]
    },
    {
     "data": {
      "text/plain": [
       "array([[1, 2],\n",
       "       [2, 4]])"
      ]
     },
     "execution_count": 115,
     "metadata": {},
     "output_type": "execute_result"
    }
   ],
   "source": [
    "discardedCards = None\n",
    "print(discardedCards)\n",
    "#discardedCards = np.reshape(discardedCards, (1, 2))\n",
    "if discardedCards is None:\n",
    "    #discardedCards = np.array([1, 2])\n",
    "    discardedCards = np.reshape(np.array([1,2]), (1, 2))\n",
    "    #print(discardedCards)\n",
    "if discardedCards is not None:\n",
    "    discardedCards = np.concatenate((discardedCards, [[2, 4]]))\n",
    "discardedCards"
   ]
  },
  {
   "cell_type": "code",
   "execution_count": 98,
   "metadata": {},
   "outputs": [
    {
     "name": "stdout",
     "output_type": "stream",
     "text": [
      "[0 1 2 3]\n",
      "[2 3]\n"
     ]
    }
   ],
   "source": [
    "a = np.array([i for i in range(4)])\n",
    "print(a)\n",
    "print(a[2:])"
   ]
  },
  {
   "cell_type": "code",
   "execution_count": 2,
   "metadata": {},
   "outputs": [
    {
     "name": "stdout",
     "output_type": "stream",
     "text": [
      "0\n"
     ]
    }
   ],
   "source": [
    "vet = [\"a\", \"b\", \"c\"]\n",
    "indexxx = 1\n",
    "if vet.index(\"a\") < indexxx:\n",
    "     indexxx += 1\n",
    "print(vet.index(\"a\"))"
   ]
  },
  {
   "cell_type": "code",
   "execution_count": 14,
   "metadata": {},
   "outputs": [
    {
     "name": "stdout",
     "output_type": "stream",
     "text": [
      "[[ 1  2]\n",
      " [-1  2]] \n",
      " [1 2] \n",
      " [-1  2]\n"
     ]
    },
    {
     "data": {
      "text/plain": [
       "False"
      ]
     },
     "execution_count": 14,
     "metadata": {},
     "output_type": "execute_result"
    }
   ],
   "source": [
    "import numpy as np\n",
    "\n",
    "a = np.array([1,2,-1,2])\n",
    "a = np.reshape(a, (2,2))\n",
    "print(a, \"\\n\", a[0], \"\\n\", a[1])\n",
    "all(a[1] > (-1, -1))\n",
    "#all(a[0] == a[1])"
   ]
  },
  {
   "cell_type": "code",
   "execution_count": 9,
   "metadata": {},
   "outputs": [
    {
     "data": {
      "text/plain": [
       "True"
      ]
     },
     "execution_count": 9,
     "metadata": {},
     "output_type": "execute_result"
    }
   ],
   "source": [
    "import numpy as np\n",
    "\n",
    "table = np.array([[1,-1], [1, -1], [-1,-1]])\n",
    "#all(table[0] > -1)\n",
    "all(table[0] == table[1])"
   ]
  },
  {
   "cell_type": "code",
   "execution_count": 11,
   "metadata": {},
   "outputs": [
    {
     "data": {
      "text/plain": [
       "{0: 0, 1: 0, 2: 0, 3: 0, 4: 0}"
      ]
     },
     "execution_count": 11,
     "metadata": {},
     "output_type": "execute_result"
    }
   ],
   "source": [
    "checkVector = {0: 0, 1:0, 2:0, 3:0,4:0}\n",
    "checkVector"
   ]
  },
  {
   "cell_type": "code",
   "execution_count": 13,
   "metadata": {},
   "outputs": [
    {
     "data": {
      "text/plain": [
       "{0: 0, 1: 0, 2: 1, 3: 0, 4: 0}"
      ]
     },
     "execution_count": 13,
     "metadata": {},
     "output_type": "execute_result"
    }
   ],
   "source": [
    "checkVector[2] = 1\n",
    "checkVector"
   ]
  },
  {
   "cell_type": "code",
   "execution_count": 15,
   "metadata": {},
   "outputs": [
    {
     "data": {
      "text/plain": [
       "[0, 1, 2, 3, 4]"
      ]
     },
     "execution_count": 15,
     "metadata": {},
     "output_type": "execute_result"
    }
   ],
   "source": [
    "[i for i in range(5)]"
   ]
  },
  {
   "cell_type": "code",
   "execution_count": 1,
   "metadata": {},
   "outputs": [
    {
     "data": {
      "text/plain": [
       "False"
      ]
     },
     "execution_count": 1,
     "metadata": {},
     "output_type": "execute_result"
    }
   ],
   "source": [
    "import numpy as np\n",
    "table = np.array([i for i in range(4)])\n",
    "all(table > 3)"
   ]
  },
  {
   "cell_type": "code",
   "execution_count": 8,
   "metadata": {},
   "outputs": [
    {
     "data": {
      "text/plain": [
       "False"
      ]
     },
     "execution_count": 8,
     "metadata": {},
     "output_type": "execute_result"
    }
   ],
   "source": [
    "table *= 3\n",
    "all(table < 9)"
   ]
  },
  {
   "cell_type": "code",
   "execution_count": 11,
   "metadata": {},
   "outputs": [
    {
     "name": "stdout",
     "output_type": "stream",
     "text": [
      "0  -  1\n",
      "0  -  2\n",
      "0  -  3\n",
      "0  -  4\n",
      "1  -  0\n",
      "1  -  2\n",
      "1  -  3\n",
      "1  -  4\n",
      "2  -  0\n",
      "2  -  1\n",
      "2  -  3\n",
      "2  -  4\n",
      "3  -  0\n",
      "3  -  1\n",
      "3  -  2\n",
      "3  -  4\n",
      "4  -  0\n",
      "4  -  1\n",
      "4  -  2\n",
      "4  -  3\n"
     ]
    }
   ],
   "source": [
    "for i in range(5):\n",
    "    for j in range(5):\n",
    "        if i != j:\n",
    "            print(i, \" - \", j)"
   ]
  },
  {
   "cell_type": "code",
   "execution_count": 36,
   "metadata": {},
   "outputs": [
    {
     "data": {
      "text/plain": [
       "array([[[0, 1],\n",
       "        [2, 3]],\n",
       "\n",
       "       [[4, 5],\n",
       "        [6, 7]]])"
      ]
     },
     "execution_count": 36,
     "metadata": {},
     "output_type": "execute_result"
    }
   ],
   "source": [
    "import numpy as np\n",
    "a = np.array([i for i in range(8)])\n",
    "a = np.reshape(a, (2,2,2))\n",
    "a"
   ]
  },
  {
   "cell_type": "code",
   "execution_count": 17,
   "metadata": {},
   "outputs": [
    {
     "data": {
      "text/plain": [
       "array([2, 3])"
      ]
     },
     "execution_count": 17,
     "metadata": {},
     "output_type": "execute_result"
    }
   ],
   "source": [
    "a[0][1]"
   ]
  },
  {
   "cell_type": "code",
   "execution_count": 18,
   "metadata": {},
   "outputs": [
    {
     "data": {
      "text/plain": [
       "array([[0, 1],\n",
       "       [2, 3]])"
      ]
     },
     "execution_count": 18,
     "metadata": {},
     "output_type": "execute_result"
    }
   ],
   "source": [
    "a[0]"
   ]
  },
  {
   "cell_type": "code",
   "execution_count": 37,
   "metadata": {},
   "outputs": [
    {
     "name": "stdout",
     "output_type": "stream",
     "text": [
      "[]\n",
      "[[0 1]\n",
      " [2 3]]\n",
      "[[[4 5]\n",
      "  [2 3]]\n",
      "\n",
      " [[4 5]\n",
      "  [6 7]]]\n"
     ]
    }
   ],
   "source": [
    "print(a[0][:0])\n",
    "print(a[0][0:])\n",
    "a[0] = np.concatenate((a[0][:0], np.array(np.reshape([4,5], (1,2))) ,a[0][0+1:]))\n",
    "print(a)"
   ]
  },
  {
   "cell_type": "code",
   "execution_count": null,
   "metadata": {},
   "outputs": [],
   "source": []
  },
  {
   "cell_type": "code",
   "execution_count": 20,
   "metadata": {},
   "outputs": [
    {
     "ename": "ValueError",
     "evalue": "all the input arrays must have same number of dimensions, but the array at index 0 has 2 dimension(s) and the array at index 1 has 1 dimension(s)",
     "output_type": "error",
     "traceback": [
      "\u001b[0;31m---------------------------------------------------------------------------\u001b[0m",
      "\u001b[0;31mValueError\u001b[0m                                Traceback (most recent call last)",
      "\u001b[0;32m/var/folders/y9/nx1_75c93hlfxqhpb_rgvw3r0000gn/T/ipykernel_11040/4034372687.py\u001b[0m in \u001b[0;36m<module>\u001b[0;34m\u001b[0m\n\u001b[0;32m----> 1\u001b[0;31m \u001b[0ma\u001b[0m\u001b[0;34m[\u001b[0m\u001b[0;36m0\u001b[0m\u001b[0;34m]\u001b[0m \u001b[0;34m=\u001b[0m \u001b[0mnp\u001b[0m\u001b[0;34m.\u001b[0m\u001b[0mconcatenate\u001b[0m\u001b[0;34m(\u001b[0m\u001b[0;34m(\u001b[0m\u001b[0ma\u001b[0m\u001b[0;34m[\u001b[0m\u001b[0;36m0\u001b[0m\u001b[0;34m]\u001b[0m\u001b[0;34m[\u001b[0m\u001b[0;34m:\u001b[0m\u001b[0;36m0\u001b[0m\u001b[0;34m]\u001b[0m\u001b[0;34m,\u001b[0m\u001b[0;34m[\u001b[0m\u001b[0;36m4\u001b[0m\u001b[0;34m,\u001b[0m\u001b[0;36m5\u001b[0m\u001b[0;34m]\u001b[0m\u001b[0;34m,\u001b[0m\u001b[0ma\u001b[0m\u001b[0;34m[\u001b[0m\u001b[0;36m0\u001b[0m\u001b[0;34m+\u001b[0m\u001b[0;36m1\u001b[0m\u001b[0;34m:\u001b[0m\u001b[0;34m]\u001b[0m\u001b[0;34m)\u001b[0m\u001b[0;34m)\u001b[0m\u001b[0;34m\u001b[0m\u001b[0;34m\u001b[0m\u001b[0m\n\u001b[0m",
      "\u001b[0;32m<__array_function__ internals>\u001b[0m in \u001b[0;36mconcatenate\u001b[0;34m(*args, **kwargs)\u001b[0m\n",
      "\u001b[0;31mValueError\u001b[0m: all the input arrays must have same number of dimensions, but the array at index 0 has 2 dimension(s) and the array at index 1 has 1 dimension(s)"
     ]
    }
   ],
   "source": [
    "a[0] = np.concatenate((a[0][:0],[4,5],a[0+1:]))"
   ]
  },
  {
   "cell_type": "code",
   "execution_count": 2,
   "metadata": {},
   "outputs": [
    {
     "data": {
      "text/plain": [
       "True"
      ]
     },
     "execution_count": 2,
     "metadata": {},
     "output_type": "execute_result"
    }
   ],
   "source": [
    "import numpy as np\n",
    "a = np.reshape(np.array([i for i in range(16)]), (4,4))\n",
    "any(a.flatten() > 4)"
   ]
  },
  {
   "cell_type": "code",
   "execution_count": 3,
   "metadata": {},
   "outputs": [
    {
     "data": {
      "text/plain": [
       "array([[ 0,  1,  2,  3],\n",
       "       [ 4,  5,  6,  7],\n",
       "       [ 8,  9, 10, 11],\n",
       "       [12, 13, 14, 15]])"
      ]
     },
     "execution_count": 3,
     "metadata": {},
     "output_type": "execute_result"
    }
   ],
   "source": [
    "a"
   ]
  },
  {
   "cell_type": "code",
   "execution_count": 4,
   "metadata": {},
   "outputs": [
    {
     "data": {
      "text/plain": [
       "array([ 0,  1,  2,  3,  4,  5,  6,  7,  8,  9, 10, 11, 12, 13, 14, 15])"
      ]
     },
     "execution_count": 4,
     "metadata": {},
     "output_type": "execute_result"
    }
   ],
   "source": [
    "a.flatten()"
   ]
  },
  {
   "cell_type": "code",
   "execution_count": 45,
   "metadata": {},
   "outputs": [],
   "source": [
    "a = [[ 0,  1,  5,  0],\n",
    "       [ 0,  1,  3,  3],\n",
    "       [ 0,  1,  4,  3],\n",
    "       [-1, -1,  4,  3],\n",
    "       [-1, -1,  1,  1]]"
   ]
  },
  {
   "cell_type": "code",
   "execution_count": 9,
   "metadata": {},
   "outputs": [
    {
     "data": {
      "text/plain": [
       "array([-1, -1,  1,  1])"
      ]
     },
     "execution_count": 9,
     "metadata": {},
     "output_type": "execute_result"
    }
   ],
   "source": [
    "a = np.array(a)\n",
    "np.array([-1,-1,1,1])"
   ]
  },
  {
   "cell_type": "code",
   "execution_count": 32,
   "metadata": {},
   "outputs": [
    {
     "ename": "ValueError",
     "evalue": "all the input arrays must have same number of dimensions, but the array at index 0 has 2 dimension(s) and the array at index 1 has 1 dimension(s)",
     "output_type": "error",
     "traceback": [
      "\u001b[0;31m---------------------------------------------------------------------------\u001b[0m",
      "\u001b[0;31mValueError\u001b[0m                                Traceback (most recent call last)",
      "\u001b[0;32m/var/folders/y9/nx1_75c93hlfxqhpb_rgvw3r0000gn/T/ipykernel_12555/557759486.py\u001b[0m in \u001b[0;36m<module>\u001b[0;34m\u001b[0m\n\u001b[1;32m      1\u001b[0m \u001b[0ma\u001b[0m \u001b[0;34m=\u001b[0m \u001b[0mnp\u001b[0m\u001b[0;34m.\u001b[0m\u001b[0marray\u001b[0m\u001b[0;34m(\u001b[0m\u001b[0ma\u001b[0m\u001b[0;34m,\u001b[0m \u001b[0mdtype\u001b[0m\u001b[0;34m=\u001b[0m\u001b[0mnp\u001b[0m\u001b[0;34m.\u001b[0m\u001b[0mint8\u001b[0m\u001b[0;34m)\u001b[0m\u001b[0;34m\u001b[0m\u001b[0;34m\u001b[0m\u001b[0m\n\u001b[0;32m----> 2\u001b[0;31m a = np.concatenate( (a[:2, :], \n\u001b[0m\u001b[1;32m      3\u001b[0m                     \u001b[0ma\u001b[0m\u001b[0;34m[\u001b[0m\u001b[0;36m3\u001b[0m\u001b[0;34m,\u001b[0m \u001b[0;34m:\u001b[0m\u001b[0;34m]\u001b[0m\u001b[0;34m,\u001b[0m\u001b[0;34m\u001b[0m\u001b[0;34m\u001b[0m\u001b[0m\n\u001b[1;32m      4\u001b[0m                     np.reshape(\n\u001b[1;32m      5\u001b[0m                         \u001b[0mnp\u001b[0m\u001b[0;34m.\u001b[0m\u001b[0marray\u001b[0m\u001b[0;34m(\u001b[0m\u001b[0;34m[\u001b[0m\u001b[0;34m-\u001b[0m\u001b[0;36m1\u001b[0m\u001b[0;34m,\u001b[0m\u001b[0;34m-\u001b[0m\u001b[0;36m1\u001b[0m\u001b[0;34m,\u001b[0m\u001b[0;36m1\u001b[0m\u001b[0;34m,\u001b[0m\u001b[0;36m1\u001b[0m\u001b[0;34m]\u001b[0m\u001b[0;34m)\u001b[0m\u001b[0;34m,\u001b[0m\u001b[0;34m\u001b[0m\u001b[0;34m\u001b[0m\u001b[0m\n",
      "\u001b[0;32m<__array_function__ internals>\u001b[0m in \u001b[0;36mconcatenate\u001b[0;34m(*args, **kwargs)\u001b[0m\n",
      "\u001b[0;31mValueError\u001b[0m: all the input arrays must have same number of dimensions, but the array at index 0 has 2 dimension(s) and the array at index 1 has 1 dimension(s)"
     ]
    }
   ],
   "source": [
    "a = np.array(a, dtype=np.int8)\n",
    "a = np.concatenate( (a[:2, :], \n",
    "                     a[3, :], \n",
    "                     np.reshape(\n",
    "                        np.array([-1,-1,1,1]), \n",
    "                        (1,4)\n",
    "                    )), \n",
    "                    axis = 0\n",
    "                )"
   ]
  },
  {
   "cell_type": "code",
   "execution_count": 49,
   "metadata": {},
   "outputs": [
    {
     "data": {
      "text/plain": [
       "array([[ 0,  1,  5,  0],\n",
       "       [ 0,  1,  3,  3],\n",
       "       [-1, -1,  4,  3],\n",
       "       [-1, -1,  1,  1],\n",
       "       [-1, -1,  1,  1]])"
      ]
     },
     "execution_count": 49,
     "metadata": {},
     "output_type": "execute_result"
    }
   ],
   "source": [
    "np.concatenate((a[:2], a[3:], np.reshape([-1,-1,1,1], (1,4))))"
   ]
  },
  {
   "cell_type": "code",
   "execution_count": 23,
   "metadata": {},
   "outputs": [
    {
     "data": {
      "text/plain": [
       "numpy.ndarray"
      ]
     },
     "execution_count": 23,
     "metadata": {},
     "output_type": "execute_result"
    }
   ],
   "source": [
    "type(a)"
   ]
  },
  {
   "cell_type": "code",
   "execution_count": null,
   "metadata": {},
   "outputs": [],
   "source": []
  }
 ],
 "metadata": {
  "interpreter": {
   "hash": "aee8b7b246df8f9039afb4144a1f6fd8d2ca17a180786b69acc140d282b71a49"
  },
  "kernelspec": {
   "display_name": "Python 3.9.7 64-bit",
   "language": "python",
   "name": "python3"
  },
  "language_info": {
   "codemirror_mode": {
    "name": "ipython",
    "version": 3
   },
   "file_extension": ".py",
   "mimetype": "text/x-python",
   "name": "python",
   "nbconvert_exporter": "python",
   "pygments_lexer": "ipython3",
   "version": "3.9.7"
  },
  "orig_nbformat": 4
 },
 "nbformat": 4,
 "nbformat_minor": 2
}
